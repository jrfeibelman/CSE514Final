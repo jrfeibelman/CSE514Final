{
 "cells": [
  {
   "cell_type": "code",
   "execution_count": 1,
   "metadata": {},
   "outputs": [],
   "source": [
    "import numpy as np\n",
    "import pandas as pd\n",
    "import matplotlib.pyplot as plt\n",
    "import sys, getopt\n",
    "from sklearn.model_selection import KFold, GridSearchCV\n",
    "from sklearn.neighbors import KNeighborsClassifier\n",
    "from sklearn.tree import DecisionTreeClassifier\n",
    "from sklearn.impute import KNNImputer\n",
    "from sklearn.ensemble import RandomForestClassifier\n",
    "from sklearn import svm\n",
    "from sklearn.preprocessing import StandardScaler\n",
    "from sklearn.neural_network import MLPClassifier\n",
    "from sklearn.metrics import classification_report\n",
    "\n",
    "pd.set_option('display.max_rows', None)\n",
    "pd.set_option('display.max_columns', None)\n",
    "pd.set_option('mode.chained_assignment', 'raise')"
   ]
  },
  {
   "cell_type": "code",
   "execution_count": 2,
   "metadata": {},
   "outputs": [],
   "source": [
    "\"\"\"\n",
    "Helper Functions\n",
    "\"\"\"\n",
    "\n",
    "def perf(test_y, pred_y):\n",
    "    \"\"\"\n",
    "    params:\n",
    "        pred_y : predicted y labels for data\n",
    "        test_y : actual y labels for data\n",
    "    return:\n",
    "        Fraction of correctly classified samples\n",
    "    \"\"\"\n",
    "    res = pred_y - test_y\n",
    "    return res[res == 0].count() / res.count()\n",
    "\n",
    "\n",
    "def split_xy(df):\n",
    "    \"\"\"\n",
    "    params:\n",
    "        df : dataframe\n",
    "    return:\n",
    "        tuple\n",
    "            0 - dataframe of data w\n",
    "            1 - ser\n",
    "    \"\"\"\n",
    "    y = df['Class']\n",
    "    x = df.drop('Class',axis=1)\n",
    "    return x,y"
   ]
  },
  {
   "cell_type": "code",
   "execution_count": 3,
   "metadata": {},
   "outputs": [],
   "source": [
    "\"\"\"\n",
    "Data Collection\n",
    "\"\"\"\n",
    "colnames = ['Sample code number','Clump Thickness','Uniformity of Cell Size','Uniformity of Cell Shape','Marginal Adhesion','Single Epithelial Cell Size','Bare Nuclei','Bland Chromatin','Normal Nucleoli','Mitoses','Class']        \n",
    "classes = {1 : 'benign', -1 : 'malignant'}\n",
    "# All columns have values b/w 1-10 except for first (id) and last (class)\n",
    "data = pd.read_csv('breast-cancer-wisconsin.data', names=colnames)\n",
    "data.loc[(data['Class'] == 2),'Class'] = 1\n",
    "data.loc[(data['Class'] == 4),'Class'] = -1\n",
    "# ADJUST FOR MISISNG DATA '?'\n",
    "data = data.replace('?', np.nan)\n",
    "\n",
    "test_data = data.sample(frac=.1)\n",
    "pre_train_data = data.drop(test_data.index).reset_index(drop=True)"
   ]
  },
  {
   "cell_type": "code",
   "execution_count": 4,
   "metadata": {
    "scrolled": true
   },
   "outputs": [],
   "source": [
    "\"\"\"\n",
    "Cross Validation\n",
    "https://machinelearningmastery.com/repeated-k-fold-cross-validation-with-python/\n",
    "\"\"\"\n",
    "def knnMethod(train_x, train_y, test_x, test_y):\n",
    "    n_neighbors=1\n",
    "    knn = KNeighborsClassifier(n_neighbors=n_neighbors, p=1) # p-l1 vs l2 distance\n",
    "    imputer = KNNImputer(n_neighbors=n_neighbors)\n",
    "    train_x_knn = imputer.fit_transform(train_x)\n",
    "    test_x_knn = imputer.fit_transform(test_x)\n",
    "    knn.fit(train_x_knn, train_y)\n",
    "    preds_knn = knn.predict(test_x_knn)\n",
    "    print(\"1-kNN %f\" % knn.score(test_x_knn, test_y))\n",
    "    print(classification_report(test_y, preds_knn))\n",
    "    return train_x_knn, test_x_knn\n",
    "    \n",
    "def decisionTree(train_x, train_y, test_x, test_y):\n",
    "    dt = DecisionTreeClassifier(criterion=\"entropy\")\n",
    "    dt.fit(train_x_knn, train_y)\n",
    "    preds_dt = dt.predict(test_x_knn)\n",
    "    print(\"Decision Tree %f\" % dt.score(test_x_knn,test_y))\n",
    "    print(classification_report(test_y, preds_dt))\n",
    "\n",
    "def randomForest(train_x, train_y, test_x, test_y):\n",
    "    rf = RandomForestClassifier(criterion=\"gini\", n_estimators=100)\n",
    "    rf.fit(train_x_knn, train_y)\n",
    "    preds_rf = rf.predict(test_x_knn)\n",
    "    print(\"Random Forest %f\" % rf.score(test_x_knn,test_y))\n",
    "    print(classification_report(test_y, preds_rf))\n",
    "    \n",
    "cv_datasets = []\n",
    "for train_idx,valid_idx in KFold(n_splits=10, random_state=1, shuffle=True).split(pre_train_data):\n",
    "    train_data = pre_train_data.iloc[train_idx]\n",
    "    valid_data = pre_train_data.iloc[valid_idx]\n",
    "    cv_datasets.append((train_data,valid_data))\n",
    "    train_x, train_y = split_xy(train_data)\n",
    "    valid_x, valid_y = split_xy(valid_data)\n",
    "    test_x, test_y = split_xy(test_data)\n",
    "    train_x_knn, test_x_knn = knnMethod(train_x, train_y, test_x, test_y)\n",
    "    decisionTree(train_x, train_y, test_x, test_y)\n",
    "    randomForest(train_x, train_y, test_x, test_y)\n",
    "#     cv_datasets[2][0]\n",
    "\n",
    "train = cv_datasets[0][0]\n",
    "train_x, train_y = split_xy(train)\n",
    "valid = cv_datasets[0][1]\n",
    "valid_x, valid_y = split_xy(valid)\n",
    "test_x, test_y = split_xy(test_data)"
   ]
  },
  {
   "cell_type": "code",
   "execution_count": 16,
   "metadata": {
    "scrolled": true
   },
   "outputs": [
    {
     "name": "stdout",
     "output_type": "stream",
     "text": [
      "1-kNN 0.557143\n",
      "              precision    recall  f1-score   support\n",
      "\n",
      "          -1       0.40      0.30      0.34        27\n",
      "           1       0.62      0.72      0.67        43\n",
      "\n",
      "    accuracy                           0.56        70\n",
      "   macro avg       0.51      0.51      0.50        70\n",
      "weighted avg       0.54      0.56      0.54        70\n",
      "\n"
     ]
    }
   ],
   "source": [
    "\"\"\"\n",
    "K=1 Nearest Neighbors\n",
    "\"\"\"\n",
    "n_neighbors=1\n",
    "knn = KNeighborsClassifier(n_neighbors=n_neighbors, p=1) # p-l1 vs l2 distance\n",
    "imputer = KNNImputer(n_neighbors=n_neighbors)\n",
    "train_x_knn = imputer.fit_transform(train_x)\n",
    "test_x_knn = imputer.fit_transform(test_x)\n",
    "knn.fit(train_x_knn, train_y)\n",
    "preds_knn = knn.predict(test_x_knn)\n",
    "print(\"1-kNN %f\" % knn.score(test_x_knn, test_y))\n",
    "print(classification_report(test_y, preds_knn))"
   ]
  },
  {
   "cell_type": "code",
   "execution_count": 25,
   "metadata": {},
   "outputs": [
    {
     "name": "stdout",
     "output_type": "stream",
     "text": [
      "Decision Tree 0.942857\n",
      "              precision    recall  f1-score   support\n",
      "\n",
      "          -1       0.93      0.93      0.93        27\n",
      "           1       0.95      0.95      0.95        43\n",
      "\n",
      "    accuracy                           0.94        70\n",
      "   macro avg       0.94      0.94      0.94        70\n",
      "weighted avg       0.94      0.94      0.94        70\n",
      "\n",
      "Random Forest 1.000000\n",
      "              precision    recall  f1-score   support\n",
      "\n",
      "          -1       1.00      1.00      1.00        27\n",
      "           1       1.00      1.00      1.00        43\n",
      "\n",
      "    accuracy                           1.00        70\n",
      "   macro avg       1.00      1.00      1.00        70\n",
      "weighted avg       1.00      1.00      1.00        70\n",
      "\n"
     ]
    }
   ],
   "source": [
    "\"\"\"\n",
    "Decision Tree vs Random Forest\n",
    "\"\"\"\n",
    "dt = DecisionTreeClassifier(criterion=\"entropy\")\n",
    "dt.fit(train_x_knn, train_y)\n",
    "preds_dt = dt.predict(test_x_knn)\n",
    "print(\"Decision Tree %f\" % dt.score(test_x_knn,test_y))\n",
    "print(classification_report(test_y, preds_dt))\n",
    "\n",
    "rf = RandomForestClassifier(criterion=\"gini\", n_estimators=100)\n",
    "rf.fit(train_x_knn, train_y)\n",
    "preds_rf = rf.predict(test_x_knn)\n",
    "print(\"Random Forest %f\" % rf.score(test_x_knn,test_y))\n",
    "print(classification_report(test_y, preds_rf))"
   ]
  },
  {
   "cell_type": "code",
   "execution_count": 26,
   "metadata": {},
   "outputs": [
    {
     "name": "stdout",
     "output_type": "stream",
     "text": [
      "[Polynomial^3] SVM 0.642857\n",
      "              precision    recall  f1-score   support\n",
      "\n",
      "          -1       1.00      0.07      0.14        27\n",
      "           1       0.63      1.00      0.77        43\n",
      "\n",
      "    accuracy                           0.64        70\n",
      "   macro avg       0.82      0.54      0.46        70\n",
      "weighted avg       0.77      0.64      0.53        70\n",
      "\n",
      "[Gaussian] SVM 0.628571\n",
      "              precision    recall  f1-score   support\n",
      "\n",
      "          -1       1.00      0.04      0.07        27\n",
      "           1       0.62      1.00      0.77        43\n",
      "\n",
      "    accuracy                           0.63        70\n",
      "   macro avg       0.81      0.52      0.42        70\n",
      "weighted avg       0.77      0.63      0.50        70\n",
      "\n",
      "2\n",
      "2\n"
     ]
    }
   ],
   "source": [
    "\"\"\" 2 SVM:\n",
    "Custom Polynomial SVM vs Gaussian SVM\n",
    "\"\"\"\n",
    "svm_3 = svm.SVC(kernel='poly', degree=3, gamma='scale', coef0=131, C=12, tol=.0001)\n",
    "svm_3.fit(train_x_knn, train_y)\n",
    "preds_svm3 = svm_3.predict(test_x_knn)\n",
    "print(\"[Polynomial^3] SVM %f\" % svm_3.score(test_x_knn,test_y))\n",
    "print(classification_report(test_y, preds_svm3))\n",
    "\n",
    "svm_g = svm.SVC(kernel='rbf', gamma='auto', C=12, tol=.0001)\n",
    "svm_g.fit(train_x_knn, train_y)\n",
    "preds_svmg = svm_g.predict(test_x_knn)\n",
    "print(\"[Gaussian] SVM %f\" % svm_g.score(test_x_knn,test_y))\n",
    "print(classification_report(test_y, preds_svmg))\n",
    "\n",
    "print(len(set(test_y)))\n",
    "print(len(set(preds_svm3)))"
   ]
  },
  {
   "cell_type": "code",
   "execution_count": 27,
   "metadata": {
    "scrolled": true
   },
   "outputs": [
    {
     "name": "stdout",
     "output_type": "stream",
     "text": [
      "Relu NN 0.985714\n",
      "              precision    recall  f1-score   support\n",
      "\n",
      "          -1       0.96      1.00      0.98        27\n",
      "           1       1.00      0.98      0.99        43\n",
      "\n",
      "    accuracy                           0.99        70\n",
      "   macro avg       0.98      0.99      0.99        70\n",
      "weighted avg       0.99      0.99      0.99        70\n",
      "\n",
      "Relu NN 0.985714\n",
      "              precision    recall  f1-score   support\n",
      "\n",
      "          -1       0.96      1.00      0.98        27\n",
      "           1       1.00      0.98      0.99        43\n",
      "\n",
      "    accuracy                           0.99        70\n",
      "   macro avg       0.98      0.99      0.99        70\n",
      "weighted avg       0.99      0.99      0.99        70\n",
      "\n"
     ]
    }
   ],
   "source": [
    "\"\"\" 2 NN:\n",
    "Sigmoid NN vs ReLu NN\n",
    "\"\"\"\n",
    "scaler = StandardScaler()\n",
    "scaler.fit(train_x_knn)\n",
    "train_x_nn = scaler.transform(train_x_knn)\n",
    "test_x_nn = scaler.transform(test_x_knn)\n",
    "\n",
    "mlp_sig = MLPClassifier(hidden_layer_sizes=(5,5,5), activation='logistic', max_iter=1500, alpha=.00001, tol=.0001, beta_1=.8, beta_2=.95, epsilon=.00000000001)\n",
    "mlp_sig.fit(train_x_nn, train_y) # train_y.values.ravel() converts Series -> np.ndarray\n",
    "preds_nn_sig = mlp_sig.predict(test_x_nn)\n",
    "print(\"Relu NN %f\" % mlp_sig.score(test_x_nn,test_y))\n",
    "print(classification_report(test_y, preds_nn_sig))\n",
    "\n",
    "mlp_relu = MLPClassifier(hidden_layer_sizes=(5,5,5), activation='relu', max_iter=1500, alpha=.00001, tol=.001, beta_1=.8, beta_2=.95, epsilon=.00000000001)\n",
    "mlp_relu.fit(train_x_nn, train_y) # train_y.values.ravel() converts Series -> np.ndarray\n",
    "preds_nn_relu = mlp_relu.predict(test_x_nn)\n",
    "print(\"Relu NN %f\" % mlp_relu.score(test_x_nn,test_y))\n",
    "print(classification_report(test_y, preds_nn_relu))"
   ]
  },
  {
   "cell_type": "code",
   "execution_count": null,
   "metadata": {},
   "outputs": [],
   "source": []
  },
  {
   "cell_type": "code",
   "execution_count": 10,
   "metadata": {},
   "outputs": [
    {
     "data": {
      "text/plain": [
       "'\\nTODO:\\n    - Deal with missing data! Currently using KNN Imputer\\n    - Cross Validation --> over all 10 data sets --> and validation\\n    - SVM division by 0 ??????\\n    - Grid search for correct parameters\\n'"
      ]
     },
     "execution_count": 10,
     "metadata": {},
     "output_type": "execute_result"
    }
   ],
   "source": [
    "\"\"\"\n",
    "TODO:\n",
    "    - Deal with missing data! Currently using KNN Imputer\n",
    "    - Cross Validation --> over all 10 data sets --> and validation\n",
    "    - Grid search for correct parameters\n",
    "        --> SVM Help?\n",
    "\"\"\""
   ]
  },
  {
   "cell_type": "markdown",
   "metadata": {},
   "source": [
    "SHARE W EASH & ADD GRID SEARCH"
   ]
  },
  {
   "cell_type": "code",
   "execution_count": null,
   "metadata": {},
   "outputs": [],
   "source": []
  },
  {
   "cell_type": "code",
   "execution_count": null,
   "metadata": {},
   "outputs": [],
   "source": []
  },
  {
   "cell_type": "code",
   "execution_count": null,
   "metadata": {},
   "outputs": [],
   "source": []
  },
  {
   "cell_type": "code",
   "execution_count": 11,
   "metadata": {},
   "outputs": [
    {
     "name": "stdout",
     "output_type": "stream",
     "text": [
      "Usage: /Users/jfeibs/.pyenv/versions/3.9.1/envs/stockalyzer/lib/python3.9/site-packages/ipykernel_launcher.py <-d degree#> <-a>\n",
      "1\n"
     ]
    }
   ],
   "source": [
    "if __name__ == \"__main__\":\n",
    "    opts, args = getopt.getopt(sys.argv[1:],\"d:a:f\")\n",
    "    degree = 1\n",
    "    for a, b in opts:\n",
    "        if a == '-d':\n",
    "            degree = b\n",
    "        elif a == '-a':\n",
    "            degree = -1\n",
    "        else:\n",
    "            print(\"Usage: %s <-d degree#> <-a>\" % sys.argv[0])\n",
    "    \n",
    "    print(degree)"
   ]
  },
  {
   "cell_type": "markdown",
   "metadata": {},
   "source": [
    "# "
   ]
  },
  {
   "cell_type": "code",
   "execution_count": null,
   "metadata": {},
   "outputs": [],
   "source": []
  }
 ],
 "metadata": {
  "kernelspec": {
   "display_name": "Python 3",
   "language": "python",
   "name": "python3"
  },
  "language_info": {
   "codemirror_mode": {
    "name": "ipython",
    "version": 3
   },
   "file_extension": ".py",
   "mimetype": "text/x-python",
   "name": "python",
   "nbconvert_exporter": "python",
   "pygments_lexer": "ipython3",
   "version": "3.8.5"
  }
 },
 "nbformat": 4,
 "nbformat_minor": 4
}
